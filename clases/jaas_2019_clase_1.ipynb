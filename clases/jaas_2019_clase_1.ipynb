{
 "cells": [
  {
   "cell_type": "markdown",
   "metadata": {},
   "source": [
    "# JAAS 2019 - Procesamiento de Señales en Python\n",
    "## Clase 1:  Librerías para manipulación de datos numéricos\n",
    "\n",
    "![](imagenes/workshop_logo_300x200.png)"
   ]
  },
  {
   "cell_type": "markdown",
   "metadata": {},
   "source": [
    "## Índice\n",
    "\n",
    "* [Comenzando a usar Numpy](#Comenzando-a-usar-Numpy)\n",
    "* [Importando la libreria y creando un array](#Importando-la-libreria-y-creando-un-array)\n",
    "* [Arrays de datos](#Arrays-de-datos)\n",
    "    * [Listas y arrays](#Listas-y-arrays)\n",
    "    * [Longitud y dimensiones de un array](#Longitud-y-dimensiones-de-un-array)\n",
    "    * [Indizado en arrays](#Indizado-en-arrays)\n",
    "    * [Operaciones matematicas entre arrays](#Operaciones-matematicas-entre-arrays)\n",
    "    * [Aplicando funciones matematicas](#Aplicando-funciones-matematicas)\n",
    "* [Referencias](#Referencias)\n",
    "* [Licencia](#Licencia)"
   ]
  },
  {
   "cell_type": "markdown",
   "metadata": {},
   "source": [
    "### Comenzando a usar Numpy\n",
    "\n",
    "Numpy es la librería dedicada a definir vectores y matrices y realizar operaciones básicas entre ellos.\n",
    "\n",
    "El objeto principal con el que se trabaja en numpy es un **array** de una o varias dimensiones. El mismo contiene elementos, en general de formato numérico.  Se pueden definir las siguientes características para un array de numpy:\n",
    "\n",
    "* Los elementos que lo componen son todos de un mismo tipo o formato.\n",
    "* Cuenta con una longitud, igual a la cantidad de elementos que contiene por fila; y una cantidad de ejes o dimensiones, igual a la cantidad de filas que contiene.\n",
    "* Cada elemento del array posee un índice que denota su ubicación dentro del mismo.\n",
    "\n",
    "### Importando la libreria y creando un array\n",
    "\n",
    "Para utilizar Numpy en nuestro código, primero debemos importarla utilizando el comando `import numpy`. Existen varias formas de importar librerías en  Python. La primera es ingresando `import numpy as np`, y la segunda consiste en ingresar `from numpy import * `. \n",
    "Veamos en el ejemplo, cómo ‘llamamos’ a la misma para utilizarla en nuestro código. \n",
    "\n",
    "Una vez importada la librería, podemos crear un array de datos. Para hacerlo, utilizamos el objeto `numpy.array` de la siguiente manera:"
   ]
  },
  {
   "cell_type": "code",
   "execution_count": 1,
   "metadata": {},
   "outputs": [],
   "source": [
    "# 1° forma\n",
    "import numpy\n",
    "\n",
    "# 2° forma\n",
    "from numpy import *\n",
    "\n",
    "# 3° forma\n",
    "import numpy as np"
   ]
  },
  {
   "cell_type": "markdown",
   "metadata": {},
   "source": [
    "Por convención general, se suele utilizar la tercera forma para la importación de numpy. Es una forma de abreviar el nombre de la librería, y mantener la referencia de que estamos utilizando elementos de la misma. Esto nos importa para mantener cierto orden en nuestro código, por más que parezca tedioso estar anteponiendo 'np' cada vez que creamos numpy. En los ejemplos subsiguientes, vamos a considerar que se utilizó este método."
   ]
  },
  {
   "cell_type": "markdown",
   "metadata": {},
   "source": [
    "## Arrays de datos"
   ]
  },
  {
   "cell_type": "markdown",
   "metadata": {},
   "source": [
    "## Listas y arrays\n",
    "\n",
    "Nótese que al crear arrays, ésto se hace a partir de una lista, es decir que los **datos almacenados en formato de lista se convierten automáticamente en arrays**. Para ejemplificarlo mejor: "
   ]
  },
  {
   "cell_type": "code",
   "execution_count": null,
   "metadata": {},
   "outputs": [],
   "source": [
    "# creamos el mismo array 'a' a partir de una lista\n",
    "\n",
    "lista = [1,2,5,9]\n",
    "a = np.array(lista)"
   ]
  },
  {
   "cell_type": "markdown",
   "metadata": {},
   "source": [
    "Pero, mientras en las listas se pueden incluir elementos de distinto tipo, **en el array todos deben ser un mismo tipo de datos**."
   ]
  },
  {
   "cell_type": "code",
   "execution_count": null,
   "metadata": {},
   "outputs": [],
   "source": [
    "# otra lista con datos de distinto tipo\n",
    "\n",
    "otra_lista = [\"bla\", 1, True, 3.14]\n",
    "\n",
    "# si la intentamos convertir en array, ¿fracasamos?:\n",
    "\n",
    "x = np.array(otra_lista)\n",
    "\n",
    "# le pedimos a la consola que nos muestre el array\n",
    "x"
   ]
  },
  {
   "cell_type": "markdown",
   "metadata": {},
   "source": [
    "Vemos que el array se crea a partir de una lista con elementos de distinto tipo. Sin embargo, le asigna a todos un mismo formato, en este caso un string del tipo *Unicode* con longitud igual a 4."
   ]
  },
  {
   "cell_type": "markdown",
   "metadata": {},
   "source": [
    "## Longitud y dimensiones de un array\n",
    "\n",
    "Los ejemplos mencionados hasta ahora han sido de arrays de una dimensión. Podemos crear **arrays de varias dimensiones** de la siguiente manera:"
   ]
  },
  {
   "cell_type": "code",
   "execution_count": null,
   "metadata": {},
   "outputs": [],
   "source": [
    "# array de dos dimensiones y longitud igual a 3\n",
    "b = np.array([[1,2,3],[3,2,1]], dtype = np.uint8)\n",
    "\n",
    "# array de tres dimensiones y longitud igual a 2\n",
    "c = np.array([[1,-1],[0,1],[-5,2]], dtype = np.int8)"
   ]
  },
  {
   "cell_type": "markdown",
   "metadata": {},
   "source": [
    "La **longitud** representa la cantidad de elementos que posee el array en sus filas. Su valor, y el de las dimensiones de un array, se pueden obtener de la siguiente manera: "
   ]
  },
  {
   "cell_type": "code",
   "execution_count": null,
   "metadata": {},
   "outputs": [],
   "source": [
    "# devuelve la forma de un array, de la siguiente forma (n° de filas, n° de columnas)\n",
    "(dimensiones, longitud) = b.shape"
   ]
  },
  {
   "cell_type": "markdown",
   "metadata": {},
   "source": [
    "## Indizado en arrays\n",
    "\n",
    "Los **índices** se utilizan para indicar la posición de cada elemento de un array. De esta manera, podemos acceder al valor de una posición específica o extraer el valor de un grupo de elementos. Cada elemento posee una posición `[i,j]`, donde `i` representa el número de fila y `j` representa el número  de columna en que se ubica."
   ]
  },
  {
   "cell_type": "code",
   "execution_count": null,
   "metadata": {},
   "outputs": [],
   "source": [
    "# devuelve el elemento de la posición [1,2] del array 'a', igual a 2.\n",
    "print(b[1,2])\n",
    "\n",
    "# devuelve el elemento de la posición [2,0] del array 'b', igual a -5.\n",
    "print(c[2,0])\n"
   ]
  },
  {
   "cell_type": "markdown",
   "metadata": {},
   "source": [
    "Es importante tener en cuenta que los índices que se asignan se inician desde 0, por lo que si tengo 4 elementos, sus índices irán del rango de 0 a 3.\n",
    "Podemos **desplazarnos** dentro de una array, y **seleccionar** un rango de elementos utilizando la notación `[i: j: k]`, donde `i` representa el índice a partir del cual nos desplazamos, `j` es el índice en el cual nos detenemos y `k` es el paso con el cual nos desplazamos a los elementos subsiguientes. Vale aclarar que el último valor del desplazamiento será el que se ubica en la posición `j-1`, mietras que el primer valor será el ubicado en la posición `i`."
   ]
  },
  {
   "cell_type": "code",
   "execution_count": null,
   "metadata": {},
   "outputs": [],
   "source": [
    "fibo = np.array([0,1,1,2,3,5,8,13,21,34], dtype = np.uint8)\n",
    "\n",
    "# desplazamiento a partir del 1° elemento, hasta el 8°, en pasos de cada 2 elementos\n",
    "print (fibo[1:8:2])\n",
    "\n",
    "# desplazamiento entre las mismas posiciones en pasos de a 1\n",
    "print (fibo[1:8])\n",
    "\n",
    "# desplazamiento desde la posición n-5 hasta la posición 9, siendo n la cantidad de elementos.\n",
    "print (fibo[-5:9])\n",
    "\n",
    "# desplazamiento desde la posición 7 hasta la posición n-8, en pasos de 1 hacia atrás\n",
    "print (fibo[7:-8:-1])\n",
    "\n",
    "# desplazamiento desde la posición 3 hasta el final del array\n",
    "print (fibo[3:])\n",
    "\n",
    "# desplazamiento desde el comienzo hasta la posición 6 en pasos de a 2\n",
    "print (fibo[:6:2])"
   ]
  },
  {
   "cell_type": "markdown",
   "metadata": {},
   "source": [
    "## Operaciones matematicas entre arrays\n",
    "\n",
    "Las operaciones matemáticas entre arrays se realizan **elemento a elemento**. Esto quiere decir que si sumamos dos arrays `a` y `b`, el elemento `a[i,j]` se suma con el elemento `b[i,j]`. Por lo tanto, debemos operar entre arrays de iguales tamaños (aunque existen excepciones, debido a la propiedad de los arrays llamada [broadcasting](https://docs.scipy.org/doc/numpy/user/basics.broadcasting.html))."
   ]
  },
  {
   "cell_type": "code",
   "execution_count": null,
   "metadata": {},
   "outputs": [],
   "source": [
    "import numpy as np\n",
    "\n",
    "a = np.array([1,2,3,1], dtype = np.uint8)\n",
    "b = np.array([2,4,2,1], dtype = np.uint8)"
   ]
  },
  {
   "cell_type": "code",
   "execution_count": null,
   "metadata": {},
   "outputs": [],
   "source": [
    "# producto por escalar\n",
    "5 * a"
   ]
  },
  {
   "cell_type": "code",
   "execution_count": null,
   "metadata": {},
   "outputs": [],
   "source": [
    "# suma de arrays (la resta es igual)\n",
    "a + b"
   ]
  },
  {
   "cell_type": "code",
   "execution_count": null,
   "metadata": {},
   "outputs": [],
   "source": [
    "# producto de arrays (elemento a elemento)\n",
    "a * b"
   ]
  },
  {
   "cell_type": "code",
   "execution_count": null,
   "metadata": {},
   "outputs": [],
   "source": [
    "# producto matricial entre arrays\n",
    "a.dot(b)"
   ]
  },
  {
   "cell_type": "code",
   "execution_count": null,
   "metadata": {},
   "outputs": [],
   "source": [
    "# cociente de arrays\n",
    "a / b"
   ]
  },
  {
   "cell_type": "code",
   "execution_count": null,
   "metadata": {},
   "outputs": [],
   "source": [
    "# potencia de arrays (?)\n",
    "a**b"
   ]
  },
  {
   "cell_type": "code",
   "execution_count": null,
   "metadata": {},
   "outputs": [],
   "source": [
    "# operación módulo\n",
    "a % b"
   ]
  },
  {
   "cell_type": "code",
   "execution_count": null,
   "metadata": {},
   "outputs": [],
   "source": [
    "# ahora intento de nuevo convirtiendo el formato de 'a' a un float\n",
    "a = np.array([1,2,3,1], dtype = np.float16)\n",
    "\n",
    "# y entonces...\n",
    "a**b"
   ]
  },
  {
   "cell_type": "markdown",
   "metadata": {},
   "source": [
    "## Aplicando funciones matematicas\n",
    "\n",
    "Numpy dispone de varias funciones matemáticas para aplicar sobre un simple escalar o sobre un array. En esta sección nos enfocaremos en la creación de funciones trigonométricas y logarítmicas específicamente. La lista completa de funciones matemáticas que provee Numpy puede verse haciendo [clic acá](https://docs.scipy.org/doc/numpy/reference/routines.math.html#trigonometric-functions).\n",
    "\n",
    "Veamos algunos ejemplos:"
   ]
  },
  {
   "cell_type": "code",
   "execution_count": null,
   "metadata": {},
   "outputs": [],
   "source": [
    "# multiplico una array por el escalar pi.\n",
    "x = np.array([0., 0.5, 1., 1.5], dtype = np.float16)*np.pi\n",
    "x"
   ]
  },
  {
   "cell_type": "code",
   "execution_count": null,
   "metadata": {},
   "outputs": [],
   "source": [
    "f_seno = np.sin(x)\n",
    "\n",
    "print(f_seno)"
   ]
  },
  {
   "cell_type": "code",
   "execution_count": null,
   "metadata": {},
   "outputs": [],
   "source": [
    "f_coseno = np.cos(x)\n",
    "\n",
    "print(f_coseno)"
   ]
  },
  {
   "cell_type": "markdown",
   "metadata": {},
   "source": [
    "Entonces, podemos crear arrays para representar funciones matemáticas conocidas. Primero creamos un array para definir una serie de puntos en el dominio de la función y luego aplicamos la función sobre estos puntos.\n",
    "\n",
    "En los últimos ejemplos, podemos notar que los valores de las funciones seno y coseno se aproximaron a cero pero no fueron exactamente iguales a ese número. Esto se debe a la precisión de los formatos *float*, podemos hacer la prueba de definir *x* con floats de 32 y 64 bits y veremos que los valores se aproximan más al número deseado.\n",
    "\n",
    "Entonces, ¿cómo podemos crear un array que represente a una función senoidal en el dominio del tiempo? Anteriormente vimos cómo crear secuencias numéricas, y una de las funciones que utilizamos fue *linspace*. Ahora vamos a aprovecharla para crear una representación de una función."
   ]
  },
  {
   "cell_type": "code",
   "execution_count": null,
   "metadata": {},
   "outputs": [],
   "source": [
    "x = np.linspace(0, 5*np.pi, 21, dtype=np.float32)\n",
    "x"
   ]
  },
  {
   "cell_type": "markdown",
   "metadata": {},
   "source": [
    "Con *x* tenemos representados los puntos en el dominio del tiempo, ahora tenemos que generar la función trigonométrica para estos valores."
   ]
  },
  {
   "cell_type": "code",
   "execution_count": null,
   "metadata": {},
   "outputs": [],
   "source": [
    "f_trig_1 = np.cos(x)\n",
    "\n",
    "print (f_trig_1)"
   ]
  },
  {
   "cell_type": "markdown",
   "metadata": {},
   "source": [
    "Por último, un ejemplo de logaritmos. Nos sirve también para ver cómo utilizar `numpy.power` para aplicar potencias"
   ]
  },
  {
   "cell_type": "code",
   "execution_count": null,
   "metadata": {},
   "outputs": [],
   "source": [
    "import numpy as np\n",
    "\n",
    "p_ref = 2*np.power(10.,-5)\n",
    "p = np.linspace(p_ref, 1, 100) # la base en número float! -> 10.\n",
    "\n",
    "p_log = 10*np.log10(p/p_ref)"
   ]
  },
  {
   "cell_type": "code",
   "execution_count": null,
   "metadata": {},
   "outputs": [],
   "source": [
    "p_log[-1]"
   ]
  },
  {
   "cell_type": "markdown",
   "metadata": {},
   "source": [
    "## Referencias\n",
    "\n",
    " * *Numpy User Guide*, https://www.numpy.org/\n",
    "\n",
    " * Scott Shell, *An introduction to Numpy and Scipy*, 2014. "
   ]
  },
  {
   "cell_type": "markdown",
   "metadata": {},
   "source": [
    "## Licencia\n",
    "\n",
    "<a rel=\"license\" href=\"http://creativecommons.org/licenses/by-sa/4.0/\"><img alt=\"Licencia de Creative Commons\" style=\"border-width:0\" src=\"https://i.creativecommons.org/l/by-sa/4.0/88x31.png\" /></a><br />Este documento se destribuye con una <a rel=\"license\" href=\"http://creativecommons.org/licenses/by-sa/4.0/\">licencia Atribución CompartirIgual 4.0 Internacional de Creative Commons</a>.\n",
    "\n",
    "**© 2019. Infiniem Labs Acústica - Procesamiento de Señales en Python3 (CC BY-SA 4.0)**\n",
    "\n",
    "www.infiniemacustica.com\n",
    "\n",
    "infiniemlab.dsp@gmail.com\n"
   ]
  }
 ],
 "metadata": {
  "kernelspec": {
   "display_name": "Python 3",
   "language": "python",
   "name": "python3"
  },
  "language_info": {
   "codemirror_mode": {
    "name": "ipython",
    "version": 3
   },
   "file_extension": ".py",
   "mimetype": "text/x-python",
   "name": "python",
   "nbconvert_exporter": "python",
   "pygments_lexer": "ipython3",
   "version": "3.7.3"
  }
 },
 "nbformat": 4,
 "nbformat_minor": 4
}
